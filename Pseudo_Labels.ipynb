{
 "cells": [
  {
   "cell_type": "code",
   "id": "initial_id",
   "metadata": {
    "collapsed": true,
    "ExecuteTime": {
     "end_time": "2025-03-17T23:01:24.704195Z",
     "start_time": "2025-03-17T23:01:11.542544Z"
    }
   },
   "source": [
    "import numpy as np\n",
    "from sklearn.metrics import mean_squared_error\n",
    "from sklearn.model_selection import RepeatedKFold\n",
    "import xgboost as xgb\n",
    "import data_cleaning"
   ],
   "outputs": [],
   "execution_count": 1
  },
  {
   "metadata": {},
   "cell_type": "code",
   "outputs": [],
   "execution_count": null,
   "source": [
    "def pseudolabel(X, y, X_test, test_preds, xgb_params, pseudo_xgb_params, early_fit, n_splits=7, n_repeats=2):\n",
    "    rmse = []\n",
    "    preds = []\n",
    "    best_rmse = 0\n",
    "    test_preds2 = np.zeros(len(X_test))\n",
    "\n",
    "    kf = RepeatedKFold(n_splits = n_splits, n_repeats = n_repeats, random_state=0)\n",
    "    kf2 = RepeatedKFold(n_splits = n_splits, n_repeats = n_repeats, random_state=0)\n",
    "\n",
    "    for fold, ((train_idx, valid_idx),(pseudo_idx, pseudo2_idx)) in enumerate(zip(kf.split(X, y), kf2.split(X_test, test_preds)), 1):\n",
    "        X_train, y_train = X[train_idx], y[train_idx]\n",
    "        X_valid, y_valid = X[valid_idx], y[valid_idx]\n",
    "        \n",
    "        X_pseudo, y_pseudo = X_test[pseudo_idx], test_preds[pseudo_idx]\n",
    "        X_pseudo2, y_pseudo2 = X_test[pseudo2_idx], test_preds[pseudo2_idx]\n",
    "        \n",
    "        # Run the model on a smaller pseudolabel dataset\n",
    "        pre_xgb_model = xgb.XGBRegressor(**pseudo_xgb_params)\n",
    "        pre_xgb_model.fit(np.concatenate([X_train, X_pseudo2]),\n",
    "                          np.concatenate([y_train, y_pseudo2]),\n",
    "                          eval_set=[(X_valid, y_valid)],\n",
    "                          verbose=False,\n",
    "                          callbacks=[xgb.callback.EarlyStopping(\n",
    "                              rounds=early_fit,\n",
    "                              save_best=True)])        \n",
    "        \n",
    "        # Finetune the model using the larger pseudo dataset and a more complex model\n",
    "        # Feed the previous model weights into this new model\n",
    "        # The evaluation dataset must be the grountruth data\n",
    "        post_xgb_model = xgb.XGBRegressor(**pseudo_xgb_params)\n",
    "        post_xgb_model.fit(np.concatenate([X_train, X_pseudo]),\n",
    "                          np.concatenate([y_train, y_pseudo]),\n",
    "                          eval_set=[(X_valid, y_valid)],\n",
    "                          verbose=False,\n",
    "                          callbacks=[xgb.callback.EarlyStopping(\n",
    "                              rounds=early_fit*2,\n",
    "                              save_best=True)],\n",
    "                          xgb_model=pre_xgb_model)\n",
    "\n",
    "        preds.append(post_xgb_model.predict(X_test))\n",
    "\n",
    "        xgb_rmse = mean_squared_error(y_valid, post_xgb_model.predict(X_valid), squared=False)\n",
    "        rmse.append(xgb_rmse)\n",
    "        \n",
    "        print(f'Fold {fold}\\n\\txgb: {xgb_rmse}')\n",
    "    \n",
    "    for n in sorted(range(n_splits*n_repeats), key=lambda k: rmse[k])[:n_splits]:\n",
    "        test_preds2 += preds[n] / n_splits\n",
    "        best_rmse += rmse[n] / n_splits\n",
    "    \n",
    "    print(f'\\nAverage total rmse: {np.array(rmse).mean()}')\n",
    "    print(f'\\nAverage best rmse: {best_rmse}')\n",
    "    \n",
    "    return test_preds2"
   ],
   "id": "7e047ae265c82e42"
  }
 ],
 "metadata": {
  "kernelspec": {
   "display_name": "Python 3",
   "language": "python",
   "name": "python3"
  },
  "language_info": {
   "codemirror_mode": {
    "name": "ipython",
    "version": 2
   },
   "file_extension": ".py",
   "mimetype": "text/x-python",
   "name": "python",
   "nbconvert_exporter": "python",
   "pygments_lexer": "ipython2",
   "version": "2.7.6"
  }
 },
 "nbformat": 4,
 "nbformat_minor": 5
}
